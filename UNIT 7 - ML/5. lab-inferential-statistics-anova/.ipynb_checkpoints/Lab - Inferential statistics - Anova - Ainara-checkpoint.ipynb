{
 "cells": [
  {
   "cell_type": "markdown",
   "id": "cc52c037",
   "metadata": {},
   "source": [
    "# <span style=\"color:rgb(255, 0, 255)\">7.03 Lab | Inferential Statistics - Anova </span> \n",
    "### <span style=\"color:rgb(255, 0, 255)\">Ainara Guerra</span> "
   ]
  },
  {
   "cell_type": "markdown",
   "id": "be5d1d76",
   "metadata": {},
   "source": [
    "**Instructions**\n",
    "\n",
    "In this activity, we will look at another example. Your task is to understand the problem and write down all the steps to set up ANOVA. After the next lesson, we will ask you to solve this problem using Python. Here are the steps that you would need to work on: \n",
    "- Null hypothesis \n",
    "- Alternate hypothesis \n",
    "- Level of significance \n",
    "- Test statistic \n",
    "- P-value \n",
    "- F table\n",
    "\n",
    "**Context**\n",
    "\n",
    "Suppose you are working as an analyst in a microprocessor chip manufacturing plant. You have been given the task of analyzing a plasma etching process with respect to changing Power (in Watts) of the plasma beam. Data was collected and provided to you to conduct statistical analysis and check if changing the power of the plasma beam has any effect on the etching rate by the machine. You will conduct ANOVA and check if there is any difference in the mean etching rate for different levels of power. You can find the data anova_lab_data.xlsx file in the files_for_lab folder\n",
    "\n",
    "- State the null hypothesis\n",
    "- State the alternate hypothesis\n",
    "- What is the significance level\n",
    "- What are the degrees of freedom of model, error terms, and total DoF\n"
   ]
  },
  {
   "cell_type": "markdown",
   "id": "edd0fe70",
   "metadata": {},
   "source": [
    "<img src=\"lab_data.png\">"
   ]
  },
  {
   "cell_type": "markdown",
   "id": "b4f19d8f",
   "metadata": {},
   "source": [
    "**Step 1**: Define the null hypothesis - This is our assumption about the population. This represents the hypothesis that you want to test and assume to be true initially."
   ]
  },
  {
   "cell_type": "code",
   "execution_count": null,
   "id": "015d7ea3",
   "metadata": {},
   "outputs": [],
   "source": [
    "# Null Hypothesis: H0 - When compared means of different powers, results are not different."
   ]
  },
  {
   "cell_type": "markdown",
   "id": "cb29cbb0",
   "metadata": {},
   "source": [
    "**Step 2**: Define the alternative hypothesis.  This represents the alternative to the null hypothesis and is what you're trying to prove."
   ]
  },
  {
   "cell_type": "code",
   "execution_count": null,
   "id": "1b77593c",
   "metadata": {},
   "outputs": [],
   "source": [
    "# Alternative hypothesis: Ha - When compared means of different powers, results are different."
   ]
  },
  {
   "cell_type": "markdown",
   "id": "ce1df776",
   "metadata": {},
   "source": [
    "**Step 3**: Show data "
   ]
  },
  {
   "cell_type": "code",
   "execution_count": 6,
   "id": "36c3ba61",
   "metadata": {},
   "outputs": [],
   "source": [
    "# I tried running the data and it didn't work, so I tried other way:\n",
    "\n",
    "import pandas as pd\n",
    "import statsmodels.api as sm\n",
    "from statsmodels.formula.api import ols\n",
    "\n",
    "# Read the dataset\n",
    "data = pd.DataFrame({\n",
    "    'Power': ['160 W', '180 W', '200 W', '160 W', '180 W', '200 W', '160 W', '180 W', '200 W', '160 W', '180 W', '200 W', '160 W', '180 W', '200 W'],\n",
    "    'Etching_Rate': [5.43, 6.24, 8.79, 5.71, 6.71, 9.20, 6.22, 5.98, 7.90, 6.01, 5.66, 8.15, 5.59, 6.60, 7.55]\n",
    "})"
   ]
  },
  {
   "cell_type": "markdown",
   "id": "f3213d84",
   "metadata": {},
   "source": [
    "**Step 4**: Level of significance (alpha). This determines the threshold for rejecting the null hypothesis."
   ]
  },
  {
   "cell_type": "code",
   "execution_count": null,
   "id": "73d179b6",
   "metadata": {},
   "outputs": [],
   "source": [
    "# Let's say 0.05"
   ]
  },
  {
   "cell_type": "markdown",
   "id": "d258ff7c",
   "metadata": {},
   "source": [
    "**Step 5**: Define the T-test"
   ]
  },
  {
   "cell_type": "code",
   "execution_count": 5,
   "id": "754dd730",
   "metadata": {},
   "outputs": [],
   "source": [
    "# Here we are using the F-test because it is more than two samples."
   ]
  },
  {
   "cell_type": "markdown",
   "id": "00e0c428",
   "metadata": {},
   "source": [
    "**Step 6**: Degrees of freedom"
   ]
  },
  {
   "cell_type": "markdown",
   "id": "bb1f232b",
   "metadata": {},
   "source": [
    "Degrees of Freedom of Model: 3 - 1 = 2\n",
    "\n",
    "Degrees of Freedom of Error Terms (as said in class): 15 - 3 = 12\n",
    "\n",
    "Total Degrees of Freedom: 15 - 1 = 14"
   ]
  },
  {
   "cell_type": "markdown",
   "id": "ca4b647b",
   "metadata": {},
   "source": [
    "**Step 6**: Doing the ANOVA model"
   ]
  },
  {
   "cell_type": "code",
   "execution_count": 7,
   "id": "9525cc9c",
   "metadata": {},
   "outputs": [
    {
     "data": {
      "text/html": [
       "<div>\n",
       "<style scoped>\n",
       "    .dataframe tbody tr th:only-of-type {\n",
       "        vertical-align: middle;\n",
       "    }\n",
       "\n",
       "    .dataframe tbody tr th {\n",
       "        vertical-align: top;\n",
       "    }\n",
       "\n",
       "    .dataframe thead th {\n",
       "        text-align: right;\n",
       "    }\n",
       "</style>\n",
       "<table border=\"1\" class=\"dataframe\">\n",
       "  <thead>\n",
       "    <tr style=\"text-align: right;\">\n",
       "      <th></th>\n",
       "      <th>sum_sq</th>\n",
       "      <th>df</th>\n",
       "      <th>F</th>\n",
       "      <th>PR(&gt;F)</th>\n",
       "    </tr>\n",
       "  </thead>\n",
       "  <tbody>\n",
       "    <tr>\n",
       "      <th>C(Power)</th>\n",
       "      <td>18.176653</td>\n",
       "      <td>2.0</td>\n",
       "      <td>36.878955</td>\n",
       "      <td>0.000008</td>\n",
       "    </tr>\n",
       "    <tr>\n",
       "      <th>Residual</th>\n",
       "      <td>2.957240</td>\n",
       "      <td>12.0</td>\n",
       "      <td>NaN</td>\n",
       "      <td>NaN</td>\n",
       "    </tr>\n",
       "  </tbody>\n",
       "</table>\n",
       "</div>"
      ],
      "text/plain": [
       "             sum_sq    df          F    PR(>F)\n",
       "C(Power)  18.176653   2.0  36.878955  0.000008\n",
       "Residual   2.957240  12.0        NaN       NaN"
      ]
     },
     "execution_count": 7,
     "metadata": {},
     "output_type": "execute_result"
    }
   ],
   "source": [
    "model = ols('Etching_Rate ~ C(Power)', data=data).fit()\n",
    "anova_table = sm.stats.anova_lm(model, typ=2)\n",
    "\n",
    "anova_table"
   ]
  },
  {
   "cell_type": "markdown",
   "id": "0ee8a66c",
   "metadata": {},
   "source": [
    "**The p-value** obtained for the variable \"C(Power)\" is 0.000008, which is lower than the significance level of 0.05: We reject the null hypothesis, so this indicates that changing the power of the plasma beam has a significant effect on the etching rate."
   ]
  },
  {
   "cell_type": "code",
   "execution_count": 8,
   "id": "1619d79a",
   "metadata": {},
   "outputs": [
    {
     "data": {
      "text/html": [
       "<div>\n",
       "<style scoped>\n",
       "    .dataframe tbody tr th:only-of-type {\n",
       "        vertical-align: middle;\n",
       "    }\n",
       "\n",
       "    .dataframe tbody tr th {\n",
       "        vertical-align: top;\n",
       "    }\n",
       "\n",
       "    .dataframe thead tr th {\n",
       "        text-align: left;\n",
       "    }\n",
       "</style>\n",
       "<table border=\"1\" class=\"dataframe\">\n",
       "  <thead>\n",
       "    <tr>\n",
       "      <th></th>\n",
       "      <th colspan=\"3\" halign=\"left\">Etching_Rate</th>\n",
       "    </tr>\n",
       "    <tr>\n",
       "      <th>Power</th>\n",
       "      <th>160 W</th>\n",
       "      <th>180 W</th>\n",
       "      <th>200 W</th>\n",
       "    </tr>\n",
       "  </thead>\n",
       "  <tbody>\n",
       "    <tr>\n",
       "      <th>count</th>\n",
       "      <td>5.000000</td>\n",
       "      <td>5.000000</td>\n",
       "      <td>5.000000</td>\n",
       "    </tr>\n",
       "    <tr>\n",
       "      <th>mean</th>\n",
       "      <td>5.792000</td>\n",
       "      <td>6.238000</td>\n",
       "      <td>8.318000</td>\n",
       "    </tr>\n",
       "    <tr>\n",
       "      <th>std</th>\n",
       "      <td>0.319875</td>\n",
       "      <td>0.434304</td>\n",
       "      <td>0.669604</td>\n",
       "    </tr>\n",
       "    <tr>\n",
       "      <th>min</th>\n",
       "      <td>5.430000</td>\n",
       "      <td>5.660000</td>\n",
       "      <td>7.550000</td>\n",
       "    </tr>\n",
       "    <tr>\n",
       "      <th>25%</th>\n",
       "      <td>5.590000</td>\n",
       "      <td>5.980000</td>\n",
       "      <td>7.900000</td>\n",
       "    </tr>\n",
       "    <tr>\n",
       "      <th>50%</th>\n",
       "      <td>5.710000</td>\n",
       "      <td>6.240000</td>\n",
       "      <td>8.150000</td>\n",
       "    </tr>\n",
       "    <tr>\n",
       "      <th>75%</th>\n",
       "      <td>6.010000</td>\n",
       "      <td>6.600000</td>\n",
       "      <td>8.790000</td>\n",
       "    </tr>\n",
       "    <tr>\n",
       "      <th>max</th>\n",
       "      <td>6.220000</td>\n",
       "      <td>6.710000</td>\n",
       "      <td>9.200000</td>\n",
       "    </tr>\n",
       "  </tbody>\n",
       "</table>\n",
       "</div>"
      ],
      "text/plain": [
       "      Etching_Rate                    \n",
       "Power        160 W     180 W     200 W\n",
       "count     5.000000  5.000000  5.000000\n",
       "mean      5.792000  6.238000  8.318000\n",
       "std       0.319875  0.434304  0.669604\n",
       "min       5.430000  5.660000  7.550000\n",
       "25%       5.590000  5.980000  7.900000\n",
       "50%       5.710000  6.240000  8.150000\n",
       "75%       6.010000  6.600000  8.790000\n",
       "max       6.220000  6.710000  9.200000"
      ]
     },
     "execution_count": 8,
     "metadata": {},
     "output_type": "execute_result"
    }
   ],
   "source": [
    "data.pivot(columns='Power').describe()"
   ]
  },
  {
   "cell_type": "code",
   "execution_count": null,
   "id": "1c92c523",
   "metadata": {},
   "outputs": [],
   "source": [
    "# Looks 200 W is the one that will perfom better. "
   ]
  }
 ],
 "metadata": {
  "kernelspec": {
   "display_name": "Python 3 (ipykernel)",
   "language": "python",
   "name": "python3"
  },
  "language_info": {
   "codemirror_mode": {
    "name": "ipython",
    "version": 3
   },
   "file_extension": ".py",
   "mimetype": "text/x-python",
   "name": "python",
   "nbconvert_exporter": "python",
   "pygments_lexer": "ipython3",
   "version": "3.9.13"
  }
 },
 "nbformat": 4,
 "nbformat_minor": 5
}
