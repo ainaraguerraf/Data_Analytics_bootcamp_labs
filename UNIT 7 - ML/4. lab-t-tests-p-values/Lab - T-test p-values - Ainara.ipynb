{
 "cells": [
  {
   "cell_type": "markdown",
   "id": "cc52c037",
   "metadata": {},
   "source": [
    "# <span style=\"color:rgb(255, 0, 255)\">7.03 Lab | Inferential Statistics </span> \n",
    "### <span style=\"color:rgb(255, 0, 255)\">Ainara Guerra</span> "
   ]
  },
  {
   "cell_type": "code",
   "execution_count": 6,
   "id": "430bc278",
   "metadata": {},
   "outputs": [],
   "source": [
    "import numpy as np\n",
    "import math\n",
    "import scipy.stats as stats\n",
    "from scipy.stats import ttest_ind, norm, t\n"
   ]
  },
  {
   "cell_type": "markdown",
   "id": "be5d1d76",
   "metadata": {},
   "source": [
    "**Instructions**\n",
    "\n",
    "We will have another simple example on **two sample t test** (pooled- when the variances are equal). But this time this is a one sided t-test.\n",
    "\n",
    "In a packing plant, a machine packs cartons with jars. **It is supposed that a new machine will pack faster on the average than the machine currently used**. To test that hypothesis, the times it takes each machine to pack ten cartons are recorded. The results, in seconds, are shown in the tables in the file files_for_lab/machine.txt. Assume that there is sufficient evidence to conduct the t test, does the data provide sufficient evidence to show if one machine is better than the other.\n"
   ]
  },
  {
   "cell_type": "markdown",
   "id": "b4f19d8f",
   "metadata": {},
   "source": [
    "**Step 1**: Define the null hypothesis - This is our assumption about the population. This represents the hypothesis that you want to test and assume to be true initially."
   ]
  },
  {
   "cell_type": "code",
   "execution_count": 2,
   "id": "015d7ea3",
   "metadata": {},
   "outputs": [],
   "source": [
    "# Null Hypothesis: μ = μ0, where μ refers to the old machine and μ0 refers to the new machine. \n",
    "# They are not different, the new machine and the old machine"
   ]
  },
  {
   "cell_type": "markdown",
   "id": "cb29cbb0",
   "metadata": {},
   "source": [
    "**Step 2**: Define the alternative hypothesis.  This represents the alternative to the null hypothesis and is what you're trying to prove."
   ]
  },
  {
   "cell_type": "code",
   "execution_count": 3,
   "id": "1b77593c",
   "metadata": {},
   "outputs": [],
   "source": [
    "# Alternative hypothesis μ<μ0 They new machine is better than the old machine"
   ]
  },
  {
   "cell_type": "markdown",
   "id": "81b299b5",
   "metadata": {},
   "source": [
    "**Step 3**: Determine if it is a one-tailed or a two-tailed test."
   ]
  },
  {
   "cell_type": "code",
   "execution_count": null,
   "id": "8e9da6d1",
   "metadata": {},
   "outputs": [],
   "source": [
    "# Two tailed"
   ]
  },
  {
   "cell_type": "markdown",
   "id": "ce1df776",
   "metadata": {},
   "source": [
    "**Step 4**: Decide a test statistics based on the information available. "
   ]
  },
  {
   "cell_type": "markdown",
   "id": "9ea9acf6",
   "metadata": {},
   "source": [
    "Note to self:\n",
    "\n",
    "_Collect your sample data and calculate the test statistic._\n",
    "\n",
    "_The test statistic depends on the type of test you are performing. For example, if you are comparing means, you can use t-tests or z-tests._"
   ]
  },
  {
   "cell_type": "code",
   "execution_count": 4,
   "id": "3668ce0f",
   "metadata": {},
   "outputs": [],
   "source": [
    "new_mach = [42.1, 41, 41.3, 41.8, 42.4, 42.8, 43.2, 42.3, 41.8, 42.7]\n",
    "old_mach = [42.7, 43.6, 43.8, 43.3, 42.5, 43.5, 43.1, 41.7, 44, 44.1]\n",
    "n = 10\n",
    "dof = 9"
   ]
  },
  {
   "cell_type": "code",
   "execution_count": 10,
   "id": "9b2564a9",
   "metadata": {},
   "outputs": [
    {
     "name": "stdout",
     "output_type": "stream",
     "text": [
      "Calculated t-statistic: 4.761904761904759\n"
     ]
    }
   ],
   "source": [
    "new_mach_mean = np.eman(new_mach)\n",
    "old_mach_mean = np.mean(old_mach)\n",
    "new_mach_std = np.std(new_mach)\n",
    "old_mach_std = np.std(old_mach)"
   ]
  },
  {
   "cell_type": "code",
   "execution_count": 2,
   "id": "00f1baae",
   "metadata": {},
   "outputs": [],
   "source": [
    "# We will be using T test"
   ]
  },
  {
   "cell_type": "markdown",
   "id": "f3213d84",
   "metadata": {},
   "source": [
    "**Step 5**: Level of significance (alpha). This determines the threshold for rejecting the null hypothesis."
   ]
  },
  {
   "cell_type": "code",
   "execution_count": 3,
   "id": "73d179b6",
   "metadata": {},
   "outputs": [],
   "source": [
    "# Let's say 0.05"
   ]
  },
  {
   "cell_type": "markdown",
   "id": "d258ff7c",
   "metadata": {},
   "source": [
    "**Step 6**: Calculate the test statistic based on the given information."
   ]
  },
  {
   "cell_type": "code",
   "execution_count": 10,
   "id": "d9c22aa3",
   "metadata": {},
   "outputs": [
    {
     "data": {
      "text/plain": [
       "Ttest_indResult(statistic=-3.3972307061176026, pvalue=0.0032111425007745158)"
      ]
     },
     "execution_count": 10,
     "metadata": {},
     "output_type": "execute_result"
    }
   ],
   "source": [
    "test_statistic, p_value = stats.ttest_ind(new_mach, old_mach)\n",
    "test_statistic, p_value"
   ]
  },
  {
   "cell_type": "markdown",
   "id": "c6297f19",
   "metadata": {},
   "source": [
    "**Step 7**: Check the table to determine the critical value."
   ]
  },
  {
   "cell_type": "code",
   "execution_count": 5,
   "id": "fde45760",
   "metadata": {},
   "outputs": [],
   "source": [
    "# To check In the table the degree of freedom is dof = n -1 9\n",
    "# Critical Value is 2.262"
   ]
  },
  {
   "cell_type": "markdown",
   "id": "bb0e3619",
   "metadata": {},
   "source": [
    "**Step 8**: Calculate the p-value associated with your test statistic.\n",
    "\n",
    "Note to self: _The p-value represents the probability of obtaining a result as extreme as the observed data, assuming the null hypothesis is true._"
   ]
  },
  {
   "cell_type": "code",
   "execution_count": null,
   "id": "cbfc2b13",
   "metadata": {},
   "outputs": [],
   "source": [
    "# Alreay calculated. P-value = 0.0032111425007745158"
   ]
  },
  {
   "cell_type": "markdown",
   "id": "e1bb7ef3",
   "metadata": {},
   "source": [
    "**Step 9**: Compare the p-value with the significance level (alpha) to make a decision.\n",
    "\n",
    "Note to self:\n",
    "\n",
    "_If the p-value is less than alpha, you reject the null hypothesis in favor of the alternative hypothesis._\n",
    "\n",
    "_If the p-value is greater than or equal to alpha, you fail to reject the null hypothesis_"
   ]
  },
  {
   "cell_type": "code",
   "execution_count": null,
   "id": "640e1f00",
   "metadata": {},
   "outputs": [],
   "source": [
    "# In this case p-value<alpha, so we can reject the null hypothesis."
   ]
  },
  {
   "cell_type": "markdown",
   "id": "c1ace180",
   "metadata": {},
   "source": [
    "**Step 10**: Conclusions"
   ]
  },
  {
   "cell_type": "markdown",
   "id": "75de7612",
   "metadata": {},
   "source": [
    "Looking at the table, we see the critical value for two-tailed alpha 0.05 and degree of freedon (dof) of 9 is 2.262. <br>\n",
    "We can say with 95% of confidence that we have enough evidence to discard the null hypothesis. <br>\n",
    "**This means that the new machine, with this samples, is better than the old machine**"
   ]
  }
 ],
 "metadata": {
  "kernelspec": {
   "display_name": "Python 3 (ipykernel)",
   "language": "python",
   "name": "python3"
  },
  "language_info": {
   "codemirror_mode": {
    "name": "ipython",
    "version": 3
   },
   "file_extension": ".py",
   "mimetype": "text/x-python",
   "name": "python",
   "nbconvert_exporter": "python",
   "pygments_lexer": "ipython3",
   "version": "3.9.13"
  }
 },
 "nbformat": 4,
 "nbformat_minor": 5
}
