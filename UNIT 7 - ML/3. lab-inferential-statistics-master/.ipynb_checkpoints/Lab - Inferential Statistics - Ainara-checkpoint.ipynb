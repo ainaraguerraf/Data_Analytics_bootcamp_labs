{
 "cells": [
  {
   "cell_type": "markdown",
   "id": "cc52c037",
   "metadata": {},
   "source": [
    "# <span style=\"color:rgb(255, 0, 255)\">7.03 Lab | Inferential Statistics </span> \n",
    "### <span style=\"color:rgb(255, 0, 255)\">Ainara Guerra</span> "
   ]
  },
  {
   "cell_type": "code",
   "execution_count": 1,
   "id": "430bc278",
   "metadata": {},
   "outputs": [],
   "source": [
    "import numpy as np\n",
    "import math\n",
    "import scipy.stats as stats\n",
    "from scipy.stats import ttest_ind, norm, t\n"
   ]
  },
  {
   "cell_type": "markdown",
   "id": "be5d1d76",
   "metadata": {},
   "source": [
    "**Instructions**\n",
    "\n",
    "It is assumed that the mean systolic blood pressure is **μ = 120 mm Hg**. In the Honolulu Heart Study, a sample of **n = 100** people had an average systolic blood pressure of **130.1 mm Hg** with a standard deviation of **21.21 mm Hg**. Is the group **significantly different** (with respect to systolic blood pressure!) from the regular population?\n",
    "\n",
    "1. Set up the hypothesis test.\n",
    "2. Write down all the steps followed for setting up the test.\n",
    "3. Calculate the test statistic by hand and also code it in Python. It should be 4.76190. We will take a look at how to make decisions based on this calculated value.\n"
   ]
  },
  {
   "cell_type": "markdown",
   "id": "b4f19d8f",
   "metadata": {},
   "source": [
    "**Step 1**: Define the null hypothesis - This is our assumption about the population. This represents the hypothesis that you want to test and assume to be true initially."
   ]
  },
  {
   "cell_type": "code",
   "execution_count": null,
   "id": "015d7ea3",
   "metadata": {},
   "outputs": [],
   "source": [
    "# Null Hypothesis: μ = μ0 They are not different"
   ]
  },
  {
   "cell_type": "markdown",
   "id": "cb29cbb0",
   "metadata": {},
   "source": [
    "**Step 2**: Define the alternative hypothesis.  This represents the alternative to the null hypothesis and is what you're trying to prove."
   ]
  },
  {
   "cell_type": "code",
   "execution_count": null,
   "id": "1b77593c",
   "metadata": {},
   "outputs": [],
   "source": [
    "# Alternative hypothesis μ != μ0 They are significantly different."
   ]
  },
  {
   "cell_type": "markdown",
   "id": "81b299b5",
   "metadata": {},
   "source": [
    "**Step 3**: Determine if it is a one-tailed or a two-tailed test."
   ]
  },
  {
   "cell_type": "code",
   "execution_count": null,
   "id": "8e9da6d1",
   "metadata": {},
   "outputs": [],
   "source": [
    "# One tailed"
   ]
  },
  {
   "cell_type": "markdown",
   "id": "ce1df776",
   "metadata": {},
   "source": [
    "**Step 4**: Decide a test statistics based on the information available. "
   ]
  },
  {
   "cell_type": "markdown",
   "id": "9ea9acf6",
   "metadata": {},
   "source": [
    "Note to self:\n",
    "\n",
    "_Collect your sample data and calculate the test statistic._\n",
    "\n",
    "_The test statistic depends on the type of test you are performing. For example, if you are comparing means, you can use t-tests or z-tests._"
   ]
  },
  {
   "cell_type": "code",
   "execution_count": 2,
   "id": "00f1baae",
   "metadata": {},
   "outputs": [],
   "source": [
    "# We will be using T test"
   ]
  },
  {
   "cell_type": "markdown",
   "id": "f3213d84",
   "metadata": {},
   "source": [
    "**Step 5**: Level of significance (alpha). This determines the threshold for rejecting the null hypothesis."
   ]
  },
  {
   "cell_type": "code",
   "execution_count": 3,
   "id": "73d179b6",
   "metadata": {},
   "outputs": [],
   "source": [
    "# Let's say 0.05"
   ]
  },
  {
   "cell_type": "markdown",
   "id": "d258ff7c",
   "metadata": {},
   "source": [
    "**Step 6**: Calculate the test statistic based on the given information."
   ]
  },
  {
   "cell_type": "code",
   "execution_count": 10,
   "id": "9b2564a9",
   "metadata": {},
   "outputs": [
    {
     "name": "stdout",
     "output_type": "stream",
     "text": [
      "Calculated t-statistic: 4.761904761904759\n"
     ]
    }
   ],
   "source": [
    "population_mean = 120 \n",
    "sample_mean = 130.1\n",
    "sample_std = 21.21\n",
    "n = 100\n",
    "\n",
    "t_statistic = (sample_mean - population_mean) / (sample_std / np.sqrt(n))\n",
    "print(\"Calculated t-statistic:\", t_statistic)"
   ]
  },
  {
   "cell_type": "markdown",
   "id": "c6297f19",
   "metadata": {},
   "source": [
    "**Step 7**: Check the table to determine the critical value."
   ]
  },
  {
   "cell_type": "code",
   "execution_count": 5,
   "id": "fde45760",
   "metadata": {},
   "outputs": [],
   "source": [
    "# To check In the table the degree of freedom is dof = n -1 so 99\n",
    "# Critical Value is 1.66"
   ]
  },
  {
   "cell_type": "markdown",
   "id": "bb0e3619",
   "metadata": {},
   "source": [
    "**Step 8**: Calculate the p-value associated with your test statistic.\n",
    "\n",
    "Note to self: _The p-value represents the probability of obtaining a result as extreme as the observed data, assuming the null hypothesis is true._"
   ]
  },
  {
   "cell_type": "code",
   "execution_count": 11,
   "id": "dba1246f",
   "metadata": {
    "scrolled": true
   },
   "outputs": [
    {
     "data": {
      "text/plain": [
       "3.2813509086043083e-06"
      ]
     },
     "execution_count": 11,
     "metadata": {},
     "output_type": "execute_result"
    }
   ],
   "source": [
    "p_value = t.sf(abs(t_statistic), n-1) # * 2\n",
    "p_value"
   ]
  },
  {
   "cell_type": "markdown",
   "id": "e1bb7ef3",
   "metadata": {},
   "source": [
    "**Step 9**: Compare the p-value with the significance level (alpha) to make a decision.\n",
    "\n",
    "Note to self:\n",
    "\n",
    "_If the p-value is less than alpha, you reject the null hypothesis in favor of the alternative hypothesis._\n",
    "\n",
    "_If the p-value is greater than or equal to alpha, you fail to reject the null hypothesis_"
   ]
  },
  {
   "cell_type": "code",
   "execution_count": null,
   "id": "640e1f00",
   "metadata": {},
   "outputs": [],
   "source": [
    "# In this case p-value>alpha, so we can't reject the null hypothesis."
   ]
  },
  {
   "cell_type": "markdown",
   "id": "c1ace180",
   "metadata": {},
   "source": [
    "**Step 10**: Conclusions"
   ]
  },
  {
   "cell_type": "markdown",
   "id": "75de7612",
   "metadata": {},
   "source": [
    "Looking at the table, we see the critical value for one-tailed alpha 0.05 and degree of freedon (dof) of 99 is 1.66. <br>\n",
    "We can say with 95% of confidence that we have enough evidence to not discard the null hypothesis. <br>"
   ]
  }
 ],
 "metadata": {
  "kernelspec": {
   "display_name": "Python 3 (ipykernel)",
   "language": "python",
   "name": "python3"
  },
  "language_info": {
   "codemirror_mode": {
    "name": "ipython",
    "version": 3
   },
   "file_extension": ".py",
   "mimetype": "text/x-python",
   "name": "python",
   "nbconvert_exporter": "python",
   "pygments_lexer": "ipython3",
   "version": "3.9.13"
  }
 },
 "nbformat": 4,
 "nbformat_minor": 5
}
