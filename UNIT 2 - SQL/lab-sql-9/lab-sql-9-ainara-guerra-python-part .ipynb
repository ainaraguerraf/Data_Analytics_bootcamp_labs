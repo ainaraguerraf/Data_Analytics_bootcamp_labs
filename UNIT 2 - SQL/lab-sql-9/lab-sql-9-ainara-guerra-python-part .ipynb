{
 "cells": [
  {
   "cell_type": "markdown",
   "id": "d47586d3",
   "metadata": {},
   "source": [
    "#### ....coming from the lab-sql-9-ainara-guerra sql document"
   ]
  },
  {
   "cell_type": "code",
   "execution_count": 6,
   "id": "7110d240",
   "metadata": {},
   "outputs": [],
   "source": [
    "#but first, all kinds of libraries \n",
    "from sqlalchemy import create_engine\n",
    "import pandas as pd\n",
    "from getpass import getpass  # To get the password without showing the input\n",
    "\n",
    "import matplotlib\n",
    "import matplotlib.pyplot as plt\n",
    "import seaborn as sns\n",
    "import numpy as np\n",
    "#sns.set_theme(style=\"whitegrid\")\n",
    "\n",
    "from sklearn.metrics import confusion_matrix\n",
    "from sklearn.metrics import plot_confusion_matrix\n",
    "from sklearn.metrics import cohen_kappa_score\n",
    "\n",
    "from sklearn.model_selection import train_test_split\n",
    "from sklearn.linear_model import LogisticRegression #logistic reggression is for classification\n",
    "from sklearn.metrics import accuracy_score"
   ]
  },
  {
   "cell_type": "markdown",
   "id": "b42814a1",
   "metadata": {},
   "source": [
    "## Create a Python connection with SQL database and retrieve the results of the last two queries (also mentioned below) as dataframes:\n"
   ]
  },
  {
   "cell_type": "code",
   "execution_count": 7,
   "id": "8a1b7f32",
   "metadata": {},
   "outputs": [],
   "source": [
    "password = getpass(\"INSERT YOUR F*KING PASSWORD: \")"
   ]
  },
  {
   "cell_type": "code",
   "execution_count": 8,
   "id": "a1aae341",
   "metadata": {},
   "outputs": [],
   "source": [
    "connection_string = 'mysql+pymysql://root:' + password + '@localhost/sakila'\n",
    "engine = create_engine(connection_string)"
   ]
  },
  {
   "cell_type": "code",
   "execution_count": 9,
   "id": "4cbba9ff",
   "metadata": {},
   "outputs": [
    {
     "data": {
      "text/plain": "   rental_id         rental_date  inventory_id  customer_id  \\\n0          1 2005-05-24 22:53:30           367          130   \n1          2 2005-05-24 22:54:33          1525          459   \n2          3 2005-05-24 23:03:39          1711          408   \n3          4 2005-05-24 23:04:41          2452          333   \n4          5 2005-05-24 23:05:21          2079          222   \n\n          return_date  staff_id         last_update  \n0 2005-05-26 22:04:30         1 2006-02-15 21:30:53  \n1 2005-05-28 19:40:33         1 2006-02-15 21:30:53  \n2 2005-06-01 22:12:39         1 2006-02-15 21:30:53  \n3 2005-06-03 01:43:41         2 2006-02-15 21:30:53  \n4 2005-06-02 04:33:21         1 2006-02-15 21:30:53  ",
      "text/html": "<div>\n<style scoped>\n    .dataframe tbody tr th:only-of-type {\n        vertical-align: middle;\n    }\n\n    .dataframe tbody tr th {\n        vertical-align: top;\n    }\n\n    .dataframe thead th {\n        text-align: right;\n    }\n</style>\n<table border=\"1\" class=\"dataframe\">\n  <thead>\n    <tr style=\"text-align: right;\">\n      <th></th>\n      <th>rental_id</th>\n      <th>rental_date</th>\n      <th>inventory_id</th>\n      <th>customer_id</th>\n      <th>return_date</th>\n      <th>staff_id</th>\n      <th>last_update</th>\n    </tr>\n  </thead>\n  <tbody>\n    <tr>\n      <th>0</th>\n      <td>1</td>\n      <td>2005-05-24 22:53:30</td>\n      <td>367</td>\n      <td>130</td>\n      <td>2005-05-26 22:04:30</td>\n      <td>1</td>\n      <td>2006-02-15 21:30:53</td>\n    </tr>\n    <tr>\n      <th>1</th>\n      <td>2</td>\n      <td>2005-05-24 22:54:33</td>\n      <td>1525</td>\n      <td>459</td>\n      <td>2005-05-28 19:40:33</td>\n      <td>1</td>\n      <td>2006-02-15 21:30:53</td>\n    </tr>\n    <tr>\n      <th>2</th>\n      <td>3</td>\n      <td>2005-05-24 23:03:39</td>\n      <td>1711</td>\n      <td>408</td>\n      <td>2005-06-01 22:12:39</td>\n      <td>1</td>\n      <td>2006-02-15 21:30:53</td>\n    </tr>\n    <tr>\n      <th>3</th>\n      <td>4</td>\n      <td>2005-05-24 23:04:41</td>\n      <td>2452</td>\n      <td>333</td>\n      <td>2005-06-03 01:43:41</td>\n      <td>2</td>\n      <td>2006-02-15 21:30:53</td>\n    </tr>\n    <tr>\n      <th>4</th>\n      <td>5</td>\n      <td>2005-05-24 23:05:21</td>\n      <td>2079</td>\n      <td>222</td>\n      <td>2005-06-02 04:33:21</td>\n      <td>1</td>\n      <td>2006-02-15 21:30:53</td>\n    </tr>\n  </tbody>\n</table>\n</div>"
     },
     "execution_count": 9,
     "metadata": {},
     "output_type": "execute_result"
    }
   ],
   "source": [
    "data_may = pd.read_sql_query('SELECT * FROM sakila.rentals_may', engine)\n",
    "data_may.head()"
   ]
  },
  {
   "cell_type": "code",
   "execution_count": 10,
   "id": "77c6a330",
   "metadata": {},
   "outputs": [
    {
     "data": {
      "text/plain": "   rental_id         rental_date  inventory_id  customer_id  \\\n0       1158 2005-06-14 22:53:33          1632          416   \n1       1159 2005-06-14 22:55:13          4395          516   \n2       1160 2005-06-14 23:00:34          2795          239   \n3       1161 2005-06-14 23:07:08          1690          285   \n4       1162 2005-06-14 23:09:38           987          310   \n\n          return_date  staff_id         last_update  \n0 2005-06-18 21:37:33         2 2006-02-15 21:30:53  \n1 2005-06-17 02:11:13         1 2006-02-15 21:30:53  \n2 2005-06-18 01:58:34         2 2006-02-15 21:30:53  \n3 2005-06-21 17:12:08         1 2006-02-15 21:30:53  \n4 2005-06-23 22:00:38         1 2006-02-15 21:30:53  ",
      "text/html": "<div>\n<style scoped>\n    .dataframe tbody tr th:only-of-type {\n        vertical-align: middle;\n    }\n\n    .dataframe tbody tr th {\n        vertical-align: top;\n    }\n\n    .dataframe thead th {\n        text-align: right;\n    }\n</style>\n<table border=\"1\" class=\"dataframe\">\n  <thead>\n    <tr style=\"text-align: right;\">\n      <th></th>\n      <th>rental_id</th>\n      <th>rental_date</th>\n      <th>inventory_id</th>\n      <th>customer_id</th>\n      <th>return_date</th>\n      <th>staff_id</th>\n      <th>last_update</th>\n    </tr>\n  </thead>\n  <tbody>\n    <tr>\n      <th>0</th>\n      <td>1158</td>\n      <td>2005-06-14 22:53:33</td>\n      <td>1632</td>\n      <td>416</td>\n      <td>2005-06-18 21:37:33</td>\n      <td>2</td>\n      <td>2006-02-15 21:30:53</td>\n    </tr>\n    <tr>\n      <th>1</th>\n      <td>1159</td>\n      <td>2005-06-14 22:55:13</td>\n      <td>4395</td>\n      <td>516</td>\n      <td>2005-06-17 02:11:13</td>\n      <td>1</td>\n      <td>2006-02-15 21:30:53</td>\n    </tr>\n    <tr>\n      <th>2</th>\n      <td>1160</td>\n      <td>2005-06-14 23:00:34</td>\n      <td>2795</td>\n      <td>239</td>\n      <td>2005-06-18 01:58:34</td>\n      <td>2</td>\n      <td>2006-02-15 21:30:53</td>\n    </tr>\n    <tr>\n      <th>3</th>\n      <td>1161</td>\n      <td>2005-06-14 23:07:08</td>\n      <td>1690</td>\n      <td>285</td>\n      <td>2005-06-21 17:12:08</td>\n      <td>1</td>\n      <td>2006-02-15 21:30:53</td>\n    </tr>\n    <tr>\n      <th>4</th>\n      <td>1162</td>\n      <td>2005-06-14 23:09:38</td>\n      <td>987</td>\n      <td>310</td>\n      <td>2005-06-23 22:00:38</td>\n      <td>1</td>\n      <td>2006-02-15 21:30:53</td>\n    </tr>\n  </tbody>\n</table>\n</div>"
     },
     "execution_count": 10,
     "metadata": {},
     "output_type": "execute_result"
    }
   ],
   "source": [
    "data_june = pd.read_sql_query('SELECT * FROM sakila.rentals_june', engine)\n",
    "data_june.head()"
   ]
  },
  {
   "cell_type": "markdown",
   "id": "97b0fe4e",
   "metadata": {},
   "source": [
    "## Check the number of rentals for each customer for May."
   ]
  },
  {
   "cell_type": "code",
   "execution_count": 11,
   "id": "4e01457c",
   "metadata": {},
   "outputs": [
    {
     "data": {
      "text/plain": "   customer_id  total_rentals_may_per_customer\n0          197                               8\n1          506                               7\n2          109                               7\n3          269                               6\n4          239                               6",
      "text/html": "<div>\n<style scoped>\n    .dataframe tbody tr th:only-of-type {\n        vertical-align: middle;\n    }\n\n    .dataframe tbody tr th {\n        vertical-align: top;\n    }\n\n    .dataframe thead th {\n        text-align: right;\n    }\n</style>\n<table border=\"1\" class=\"dataframe\">\n  <thead>\n    <tr style=\"text-align: right;\">\n      <th></th>\n      <th>customer_id</th>\n      <th>total_rentals_may_per_customer</th>\n    </tr>\n  </thead>\n  <tbody>\n    <tr>\n      <th>0</th>\n      <td>197</td>\n      <td>8</td>\n    </tr>\n    <tr>\n      <th>1</th>\n      <td>506</td>\n      <td>7</td>\n    </tr>\n    <tr>\n      <th>2</th>\n      <td>109</td>\n      <td>7</td>\n    </tr>\n    <tr>\n      <th>3</th>\n      <td>269</td>\n      <td>6</td>\n    </tr>\n    <tr>\n      <th>4</th>\n      <td>239</td>\n      <td>6</td>\n    </tr>\n  </tbody>\n</table>\n</div>"
     },
     "execution_count": 11,
     "metadata": {},
     "output_type": "execute_result"
    }
   ],
   "source": [
    "query_may = \"SELECT customer_id, count(rental_id) as total_rentals_may_per_customer FROM rentals_may GROUP BY customer_id ORDER BY total_rentals_may_per_customer DESC;\"\n",
    "count_may = pd.read_sql_query(query_may, engine)\n",
    "count_may.head()"
   ]
  },
  {
   "cell_type": "markdown",
   "id": "4eaa41ef",
   "metadata": {},
   "source": [
    "## Check the number of rentals for each customer for June\n",
    "#### Hint: You can store the results from the two queries in two separate dataframes"
   ]
  },
  {
   "cell_type": "code",
   "execution_count": 12,
   "id": "92856097",
   "metadata": {
    "scrolled": false
   },
   "outputs": [
    {
     "data": {
      "text/plain": "   customer_id  total_rentals_june_per_customer\n0           31                               11\n1          454                               10\n2          329                                9\n3          295                                9\n4          561                                9",
      "text/html": "<div>\n<style scoped>\n    .dataframe tbody tr th:only-of-type {\n        vertical-align: middle;\n    }\n\n    .dataframe tbody tr th {\n        vertical-align: top;\n    }\n\n    .dataframe thead th {\n        text-align: right;\n    }\n</style>\n<table border=\"1\" class=\"dataframe\">\n  <thead>\n    <tr style=\"text-align: right;\">\n      <th></th>\n      <th>customer_id</th>\n      <th>total_rentals_june_per_customer</th>\n    </tr>\n  </thead>\n  <tbody>\n    <tr>\n      <th>0</th>\n      <td>31</td>\n      <td>11</td>\n    </tr>\n    <tr>\n      <th>1</th>\n      <td>454</td>\n      <td>10</td>\n    </tr>\n    <tr>\n      <th>2</th>\n      <td>329</td>\n      <td>9</td>\n    </tr>\n    <tr>\n      <th>3</th>\n      <td>295</td>\n      <td>9</td>\n    </tr>\n    <tr>\n      <th>4</th>\n      <td>561</td>\n      <td>9</td>\n    </tr>\n  </tbody>\n</table>\n</div>"
     },
     "execution_count": 12,
     "metadata": {},
     "output_type": "execute_result"
    }
   ],
   "source": [
    "query_june = \"SELECT customer_id, count(rental_id) as total_rentals_june_per_customer FROM rentals_june GROUP BY customer_id ORDER BY total_rentals_june_per_customer DESC;\"\n",
    "count_june = pd.read_sql_query(query_june, engine)\n",
    "count_june.head()"
   ]
  },
  {
   "cell_type": "markdown",
   "id": "7dc1d433",
   "metadata": {},
   "source": [
    "## Write a function that checks if customer borrowed more or less films in the month of June as compared to May."
   ]
  },
  {
   "cell_type": "code",
   "execution_count": 13,
   "id": "add6bea2",
   "metadata": {},
   "outputs": [
    {
     "data": {
      "text/plain": "     customer_id  total_rentals_may_per_customer  \\\n0            197                               8   \n1            506                               7   \n2            109                               7   \n3            269                               6   \n4            239                               6   \n..           ...                             ...   \n507          234                               1   \n508          431                               1   \n509          351                               1   \n510           10                               1   \n511          136                               1   \n\n     total_rentals_june_per_customer  \n0                                  8  \n1                                  5  \n2                                  5  \n3                                  3  \n4                                  5  \n..                               ...  \n507                                8  \n508                                7  \n509                                3  \n510                                5  \n511                                1  \n\n[512 rows x 3 columns]",
      "text/html": "<div>\n<style scoped>\n    .dataframe tbody tr th:only-of-type {\n        vertical-align: middle;\n    }\n\n    .dataframe tbody tr th {\n        vertical-align: top;\n    }\n\n    .dataframe thead th {\n        text-align: right;\n    }\n</style>\n<table border=\"1\" class=\"dataframe\">\n  <thead>\n    <tr style=\"text-align: right;\">\n      <th></th>\n      <th>customer_id</th>\n      <th>total_rentals_may_per_customer</th>\n      <th>total_rentals_june_per_customer</th>\n    </tr>\n  </thead>\n  <tbody>\n    <tr>\n      <th>0</th>\n      <td>197</td>\n      <td>8</td>\n      <td>8</td>\n    </tr>\n    <tr>\n      <th>1</th>\n      <td>506</td>\n      <td>7</td>\n      <td>5</td>\n    </tr>\n    <tr>\n      <th>2</th>\n      <td>109</td>\n      <td>7</td>\n      <td>5</td>\n    </tr>\n    <tr>\n      <th>3</th>\n      <td>269</td>\n      <td>6</td>\n      <td>3</td>\n    </tr>\n    <tr>\n      <th>4</th>\n      <td>239</td>\n      <td>6</td>\n      <td>5</td>\n    </tr>\n    <tr>\n      <th>...</th>\n      <td>...</td>\n      <td>...</td>\n      <td>...</td>\n    </tr>\n    <tr>\n      <th>507</th>\n      <td>234</td>\n      <td>1</td>\n      <td>8</td>\n    </tr>\n    <tr>\n      <th>508</th>\n      <td>431</td>\n      <td>1</td>\n      <td>7</td>\n    </tr>\n    <tr>\n      <th>509</th>\n      <td>351</td>\n      <td>1</td>\n      <td>3</td>\n    </tr>\n    <tr>\n      <th>510</th>\n      <td>10</td>\n      <td>1</td>\n      <td>5</td>\n    </tr>\n    <tr>\n      <th>511</th>\n      <td>136</td>\n      <td>1</td>\n      <td>1</td>\n    </tr>\n  </tbody>\n</table>\n<p>512 rows × 3 columns</p>\n</div>"
     },
     "execution_count": 13,
     "metadata": {},
     "output_type": "execute_result"
    }
   ],
   "source": [
    "rental_merge_inner = count_may.merge(count_june, on=\"customer_id\", how =\"inner\")\n",
    "rental_merge_inner"
   ]
  },
  {
   "cell_type": "code",
   "execution_count": 14,
   "outputs": [],
   "source": [
    "rental_merge_inner[\"compar_may_june\"]=\"Decrease in rental\"\n",
    "\n"
   ],
   "metadata": {
    "collapsed": false
   }
  },
  {
   "cell_type": "code",
   "execution_count": 15,
   "id": "757514bb",
   "metadata": {},
   "outputs": [
    {
     "name": "stderr",
     "output_type": "stream",
     "text": [
      "C:\\Users\\narag\\AppData\\Local\\Temp\\ipykernel_39796\\3268850003.py:1: SettingWithCopyWarning: \n",
      "A value is trying to be set on a copy of a slice from a DataFrame\n",
      "\n",
      "See the caveats in the documentation: https://pandas.pydata.org/pandas-docs/stable/user_guide/indexing.html#returning-a-view-versus-a-copy\n",
      "  rental_merge_inner[\"compar_may_june\"][rental_merge_inner['total_rentals_may_per_customer']<rental_merge_inner['total_rentals_june_per_customer']] = \"Increase in rental\"\n",
      "C:\\Users\\narag\\AppData\\Local\\Temp\\ipykernel_39796\\3268850003.py:2: SettingWithCopyWarning: \n",
      "A value is trying to be set on a copy of a slice from a DataFrame\n",
      "\n",
      "See the caveats in the documentation: https://pandas.pydata.org/pandas-docs/stable/user_guide/indexing.html#returning-a-view-versus-a-copy\n",
      "  rental_merge_inner[\"compar_may_june\"][rental_merge_inner['total_rentals_may_per_customer']==rental_merge_inner['total_rentals_june_per_customer']] = \"Equal\"\n"
     ]
    },
    {
     "data": {
      "text/plain": "   customer_id  total_rentals_may_per_customer  \\\n0          197                               8   \n1          506                               7   \n2          109                               7   \n3          269                               6   \n4          239                               6   \n\n   total_rentals_june_per_customer     compar_may_june  \n0                                8               Equal  \n1                                5  Decrease in rental  \n2                                5  Decrease in rental  \n3                                3  Decrease in rental  \n4                                5  Decrease in rental  ",
      "text/html": "<div>\n<style scoped>\n    .dataframe tbody tr th:only-of-type {\n        vertical-align: middle;\n    }\n\n    .dataframe tbody tr th {\n        vertical-align: top;\n    }\n\n    .dataframe thead th {\n        text-align: right;\n    }\n</style>\n<table border=\"1\" class=\"dataframe\">\n  <thead>\n    <tr style=\"text-align: right;\">\n      <th></th>\n      <th>customer_id</th>\n      <th>total_rentals_may_per_customer</th>\n      <th>total_rentals_june_per_customer</th>\n      <th>compar_may_june</th>\n    </tr>\n  </thead>\n  <tbody>\n    <tr>\n      <th>0</th>\n      <td>197</td>\n      <td>8</td>\n      <td>8</td>\n      <td>Equal</td>\n    </tr>\n    <tr>\n      <th>1</th>\n      <td>506</td>\n      <td>7</td>\n      <td>5</td>\n      <td>Decrease in rental</td>\n    </tr>\n    <tr>\n      <th>2</th>\n      <td>109</td>\n      <td>7</td>\n      <td>5</td>\n      <td>Decrease in rental</td>\n    </tr>\n    <tr>\n      <th>3</th>\n      <td>269</td>\n      <td>6</td>\n      <td>3</td>\n      <td>Decrease in rental</td>\n    </tr>\n    <tr>\n      <th>4</th>\n      <td>239</td>\n      <td>6</td>\n      <td>5</td>\n      <td>Decrease in rental</td>\n    </tr>\n  </tbody>\n</table>\n</div>"
     },
     "execution_count": 15,
     "metadata": {},
     "output_type": "execute_result"
    }
   ],
   "source": [
    "rental_merge_inner[\"compar_may_june\"][rental_merge_inner['total_rentals_may_per_customer']<rental_merge_inner['total_rentals_june_per_customer']] = \"Increase in rental\"\n",
    "rental_merge_inner[\"compar_may_june\"][rental_merge_inner['total_rentals_may_per_customer']==rental_merge_inner['total_rentals_june_per_customer']] = \"Equal\"\n",
    "\n",
    "rental_merge_inner.head()"
   ]
  },
  {
   "cell_type": "code",
   "execution_count": 16,
   "outputs": [
    {
     "data": {
      "text/plain": "             total_rentals_may_per_customer  total_rentals_june_per_customer  \\\ncustomer_id                                                                    \n197                                       8                                8   \n506                                       7                                5   \n109                                       7                                5   \n269                                       6                                3   \n239                                       6                                5   \n\n                compar_may_june  \ncustomer_id                      \n197                       Equal  \n506          Decrease in rental  \n109          Decrease in rental  \n269          Decrease in rental  \n239          Decrease in rental  ",
      "text/html": "<div>\n<style scoped>\n    .dataframe tbody tr th:only-of-type {\n        vertical-align: middle;\n    }\n\n    .dataframe tbody tr th {\n        vertical-align: top;\n    }\n\n    .dataframe thead th {\n        text-align: right;\n    }\n</style>\n<table border=\"1\" class=\"dataframe\">\n  <thead>\n    <tr style=\"text-align: right;\">\n      <th></th>\n      <th>total_rentals_may_per_customer</th>\n      <th>total_rentals_june_per_customer</th>\n      <th>compar_may_june</th>\n    </tr>\n    <tr>\n      <th>customer_id</th>\n      <th></th>\n      <th></th>\n      <th></th>\n    </tr>\n  </thead>\n  <tbody>\n    <tr>\n      <th>197</th>\n      <td>8</td>\n      <td>8</td>\n      <td>Equal</td>\n    </tr>\n    <tr>\n      <th>506</th>\n      <td>7</td>\n      <td>5</td>\n      <td>Decrease in rental</td>\n    </tr>\n    <tr>\n      <th>109</th>\n      <td>7</td>\n      <td>5</td>\n      <td>Decrease in rental</td>\n    </tr>\n    <tr>\n      <th>269</th>\n      <td>6</td>\n      <td>3</td>\n      <td>Decrease in rental</td>\n    </tr>\n    <tr>\n      <th>239</th>\n      <td>6</td>\n      <td>5</td>\n      <td>Decrease in rental</td>\n    </tr>\n  </tbody>\n</table>\n</div>"
     },
     "execution_count": 16,
     "metadata": {},
     "output_type": "execute_result"
    }
   ],
   "source": [
    "final_df = rental_merge_inner.copy()\n",
    "final_df = final_df.set_index('customer_id')\n",
    "final_df.head()"
   ],
   "metadata": {
    "collapsed": false
   }
  },
  {
   "cell_type": "code",
   "execution_count": 19,
   "outputs": [],
   "source": [
    "def checking7(final_df, customer_id):\n",
    "    result = final_df[\"compar_may_june\"][customer_id]\n",
    "\n",
    "    if result == \"Decrease in rental\":\n",
    "        print (\"Decrease in rentals\")\n",
    "    if result == \"Increase in rental\":\n",
    "        print (\"Increase in rentals\")\n",
    "    else:\n",
    "        print (\"Equal\")"
   ],
   "metadata": {
    "collapsed": false
   }
  },
  {
   "cell_type": "code",
   "execution_count": 21,
   "outputs": [
    {
     "name": "stdout",
     "output_type": "stream",
     "text": [
      "Decrease in rentals\n",
      "Equal\n"
     ]
    }
   ],
   "source": [
    "checking7(final_df, 109)"
   ],
   "metadata": {
    "collapsed": false
   }
  },
  {
   "cell_type": "code",
   "execution_count": 22,
   "outputs": [
    {
     "name": "stdout",
     "output_type": "stream",
     "text": [
      "Increase in rentals\n"
     ]
    }
   ],
   "source": [
    "checking7(final_df, 259)"
   ],
   "metadata": {
    "collapsed": false
   }
  }
 ],
 "metadata": {
  "kernelspec": {
   "display_name": "Python 3 (ipykernel)",
   "language": "python",
   "name": "python3"
  },
  "language_info": {
   "codemirror_mode": {
    "name": "ipython",
    "version": 3
   },
   "file_extension": ".py",
   "mimetype": "text/x-python",
   "name": "python",
   "nbconvert_exporter": "python",
   "pygments_lexer": "ipython3",
   "version": "3.9.13"
  }
 },
 "nbformat": 4,
 "nbformat_minor": 5
}
