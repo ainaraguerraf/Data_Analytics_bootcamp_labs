{
 "cells": [
  {
   "cell_type": "markdown",
   "id": "1d25269c",
   "metadata": {},
   "source": [
    "# <span style=\"color:rgb(255, 0, 255)\"> Lab | Unsupervised learning intro\n",
    "<span style=\"color:rgb(255, 0, 255)\"> Ainara Guerra\n"
   ]
  },
  {
   "cell_type": "markdown",
   "id": "ba06718e",
   "metadata": {},
   "source": [
    "_Can we cry for a moment together because it is the last lab_"
   ]
  },
  {
   "cell_type": "code",
   "execution_count": 3,
   "id": "9c01958d",
   "metadata": {},
   "outputs": [
    {
     "data": {
      "text/html": [
       "<img src=\"https://i.imgflip.com/p3mcp.jpg?a468744\"/>"
      ],
      "text/plain": [
       "<IPython.core.display.Image object>"
      ]
     },
     "execution_count": 3,
     "metadata": {},
     "output_type": "execute_result"
    }
   ],
   "source": [
    "Image(url='https://i.imgflip.com/p3mcp.jpg?a468744')"
   ]
  },
  {
   "cell_type": "markdown",
   "id": "33aba4e2",
   "metadata": {},
   "source": [
    "Now, **Lab Instructions** \n"
   ]
  },
  {
   "cell_type": "markdown",
   "id": "0f168775",
   "metadata": {},
   "source": [
    "It's the moment to perform clustering on the songs you collected. Remember that the ultimate goal of this little project is to improve the recommendations of artists. Clustering the songs will allow the recommendation system to limit the scope of the recommendations to only songs that belong to the same cluster - songs with similar audio features.\n",
    "\n",
    "The experiments you did with the Spotify API and the Billboard web scraping will allow you to create a pipeline such that when the user enters a song, you:\n",
    "\n",
    "Check whether or not the song is in the Billboard Hot 200.\n",
    "Collect the audio features from the Spotify API.\n",
    "After that, you want to send the Spotify audio features of the submitted song to the clustering model, which should return a cluster number.\n",
    "\n",
    "We want to have as many songs as possible to create the clustering model, so we will add the songs you collected to a bigger dataset available on Kaggle containing 160 thousand songs."
   ]
  },
  {
   "cell_type": "markdown",
   "id": "45c3667b",
   "metadata": {},
   "source": [
    "### Okay, now, my approach: "
   ]
  },
  {
   "cell_type": "markdown",
   "id": "4864088d",
   "metadata": {},
   "source": [
    "I successfully single page webscrapped and multiple page webscrapped a list of songs in previous labs and I could perfectly used. But I won't. Let me explain you why: \n",
    "\n",
    "I want to make a \"present and past hits recommender\". The user will input a song that is a hit in 2023 and the recommender should say: **This is a hit nowadays, based on this** _song_, **you should like this hit from the past:** _output song_.\n",
    "\n",
    "With this recommender I want to encourage young people to listen to hits of the past that are really good. I believe present and past hits have connections. That's why I need the features of the songs, and in the list that I webscrapped I don't have them. \n",
    "\n",
    "I am going to retrieve the same lists that I webscrapped now with spotify API to have these features so my reccommender can work. \n"
   ]
  },
  {
   "cell_type": "markdown",
   "id": "b47b63df",
   "metadata": {},
   "source": [
    "### Before starting, I want to take a moment and redo my past labs, where I didn't knew how to make a function to create datasets from playlist. Now I now :) so let's use it to create a dataset with present hits and a dataset with historic hits from different genres. "
   ]
  },
  {
   "cell_type": "code",
   "execution_count": 2,
   "id": "f5d8adcd",
   "metadata": {},
   "outputs": [],
   "source": [
    "from IPython.display import Image\n",
    "import pandas as pd\n",
    "import spotipy\n",
    "from spotipy.oauth2 import SpotifyClientCredentials"
   ]
  },
  {
   "cell_type": "code",
   "execution_count": 4,
   "id": "9401bbee",
   "metadata": {},
   "outputs": [],
   "source": [
    "#Initialize SpotiPy with user credentias\n",
    "sp = spotipy.Spotify(auth_manager=SpotifyClientCredentials(client_id=\"af3a4e21d9974f798b0ddef081728f2b\",\n",
    "                                                           client_secret=\\"))"
   ]
  },
  {
   "cell_type": "code",
   "execution_count": 5,
   "id": "9c36fbe3",
   "metadata": {},
   "outputs": [],
   "source": [
    "def create_dataset_from_playlist(playlist_id, limit=100):\n",
    "\n",
    "    # Retrieve tracks from playlist\n",
    "    tracks = sp.playlist_tracks(playlist_id)['items']\n",
    "    track_ids = [track['track']['id'] for track in tracks]\n",
    "    track_names = [track['track']['name'] for track in tracks]\n",
    "    artist_names = [track['track']['artists'][0]['name'] for track in tracks]\n",
    "\n",
    "    # Split track IDs into chunks of size 'limit'\n",
    "    chunks = [track_ids[i:i+limit] for i in range(0, len(track_ids), limit)]\n",
    "\n",
    "    # Retrieve audio features for each chunk of track IDs\n",
    "    features = []\n",
    "    for chunk in chunks:\n",
    "        chunk_features = sp.audio_features(chunk)\n",
    "        features.extend(chunk_features)\n",
    "\n",
    "    # Create DataFrame from audio features, song names, and artist names\n",
    "    df = pd.DataFrame(features)\n",
    "    df['Song'] = track_names\n",
    "    df['Artist'] = artist_names\n",
    "    \n",
    "    return df\n"
   ]
  },
  {
   "cell_type": "markdown",
   "id": "51179e96",
   "metadata": {},
   "source": [
    "# <span style=\"color:rgb(255, 0, 255)\"> Present hits list"
   ]
  },
  {
   "cell_type": "code",
   "execution_count": 7,
   "id": "b7604704",
   "metadata": {},
   "outputs": [],
   "source": [
    "billboard = create_dataset_from_playlist(\"6UeSakyzhiEt4NB3UAd6NQ\")"
   ]
  },
  {
   "cell_type": "code",
   "execution_count": 8,
   "id": "8e72cc3c",
   "metadata": {},
   "outputs": [],
   "source": [
    "spotify_global_list = create_dataset_from_playlist(\"37i9dQZEVXbMDoHDwVN2tF\")"
   ]
  },
  {
   "cell_type": "code",
   "execution_count": 9,
   "id": "ec4b5cac",
   "metadata": {},
   "outputs": [],
   "source": [
    "npr_hits = create_dataset_from_playlist(\"5sx5ILgYcUCOTzF36VgHSA\")"
   ]
  },
  {
   "cell_type": "code",
   "execution_count": 10,
   "id": "976c1e85",
   "metadata": {},
   "outputs": [],
   "source": [
    "spotify_hits_spain = create_dataset_from_playlist(\"37i9dQZF1DXaxEKcoCdWHD\") #cause your girl is Spanish and loves reggaeton"
   ]
  },
  {
   "cell_type": "markdown",
   "id": "9825ade6",
   "metadata": {},
   "source": [
    "Let's concat this lists. \n",
    "It is ppossible that there are repeated hits so let's see if this is true. "
   ]
  },
  {
   "cell_type": "code",
   "execution_count": 11,
   "id": "7f4ca30a",
   "metadata": {},
   "outputs": [],
   "source": [
    "present_hits = pd.concat([npr_hits, billboard, spotify_global_list, spotify_hits_spain], ignore_index=True)"
   ]
  },
  {
   "cell_type": "code",
   "execution_count": 12,
   "id": "13c1f132",
   "metadata": {},
   "outputs": [
    {
     "data": {
      "text/plain": [
       "danceability        0\n",
       "energy              0\n",
       "key                 0\n",
       "loudness            0\n",
       "mode                0\n",
       "speechiness         0\n",
       "acousticness        0\n",
       "instrumentalness    0\n",
       "liveness            0\n",
       "valence             0\n",
       "tempo               0\n",
       "type                0\n",
       "id                  0\n",
       "uri                 0\n",
       "track_href          0\n",
       "analysis_url        0\n",
       "duration_ms         0\n",
       "time_signature      0\n",
       "Song                0\n",
       "Artist              0\n",
       "dtype: int64"
      ]
     },
     "execution_count": 12,
     "metadata": {},
     "output_type": "execute_result"
    }
   ],
   "source": [
    "# Let's see if it worked\n",
    "present_hits.isna().sum() # yes it did"
   ]
  },
  {
   "cell_type": "code",
   "execution_count": 13,
   "id": "58ee8013",
   "metadata": {},
   "outputs": [
    {
     "data": {
      "text/plain": [
       "(300, 20)"
      ]
     },
     "execution_count": 13,
     "metadata": {},
     "output_type": "execute_result"
    }
   ],
   "source": [
    "#Now let's see how many song it has this dataset:\n",
    "present_hits.shape"
   ]
  },
  {
   "cell_type": "code",
   "execution_count": 14,
   "id": "6ba5a69d",
   "metadata": {},
   "outputs": [
    {
     "data": {
      "text/plain": [
       "(22, 20)"
      ]
     },
     "execution_count": 14,
     "metadata": {},
     "output_type": "execute_result"
    }
   ],
   "source": [
    "#Now let's finally see if there is any duplicated row:\n",
    "duplicates = present_hits.duplicated()\n",
    "duplicated_rows = present_hits[duplicates]\n",
    "duplicated_rows.shape #there are 22 so let's eliminate themb"
   ]
  },
  {
   "cell_type": "code",
   "execution_count": 15,
   "id": "b6efd95f",
   "metadata": {},
   "outputs": [
    {
     "data": {
      "text/plain": [
       "(278, 20)"
      ]
     },
     "execution_count": 15,
     "metadata": {},
     "output_type": "execute_result"
    }
   ],
   "source": [
    "present_hits = present_hits.drop_duplicates()\n",
    "present_hits.shape # it worked. "
   ]
  },
  {
   "cell_type": "markdown",
   "id": "6ff32e5e",
   "metadata": {},
   "source": [
    "***"
   ]
  },
  {
   "cell_type": "markdown",
   "id": "7c6dc097",
   "metadata": {},
   "source": [
    "# <span style=\"color:rgb(255, 0, 255)\"> Past hits list"
   ]
  },
  {
   "cell_type": "code",
   "execution_count": 16,
   "id": "c290a7d4",
   "metadata": {},
   "outputs": [],
   "source": [
    "jazz = create_dataset_from_playlist(\"37i9dQZF1DXbITWG1ZJKYt\")"
   ]
  },
  {
   "cell_type": "code",
   "execution_count": 17,
   "id": "324dac7b",
   "metadata": {},
   "outputs": [],
   "source": [
    "pop = create_dataset_from_playlist(\"13Jd6NS2kvaoVorVFi7luv\")"
   ]
  },
  {
   "cell_type": "code",
   "execution_count": 18,
   "id": "3ee4b486",
   "metadata": {},
   "outputs": [],
   "source": [
    "hiphop = create_dataset_from_playlist(\"37i9dQZF1DXbkfWVLd8wE3\")"
   ]
  },
  {
   "cell_type": "code",
   "execution_count": 19,
   "id": "8d08467b",
   "metadata": {},
   "outputs": [],
   "source": [
    "rock = create_dataset_from_playlist(\"37i9dQZF1DWXRqgorJj26U\")"
   ]
  },
  {
   "cell_type": "code",
   "execution_count": 20,
   "id": "5b3b337e",
   "metadata": {},
   "outputs": [],
   "source": [
    "ryb = create_dataset_from_playlist(\"37i9dQZF1DX04mASjTsvf0\")"
   ]
  },
  {
   "cell_type": "code",
   "execution_count": 21,
   "id": "d4981f2c",
   "metadata": {},
   "outputs": [],
   "source": [
    "cumbia = create_dataset_from_playlist(\"64DKZdtH2lMQe071OFGa11\")"
   ]
  },
  {
   "cell_type": "code",
   "execution_count": 22,
   "id": "c01a891f",
   "metadata": {},
   "outputs": [],
   "source": [
    "flamenco = create_dataset_from_playlist(\"37i9dQZF1DWTfrrcwZAlVH\")"
   ]
  },
  {
   "cell_type": "code",
   "execution_count": 23,
   "id": "d8f6512b",
   "metadata": {},
   "outputs": [],
   "source": [
    "reggae = create_dataset_from_playlist(\"37i9dQZF1DXbSbnqxMTGx9\")"
   ]
  },
  {
   "cell_type": "code",
   "execution_count": 24,
   "id": "316c9bbf",
   "metadata": {},
   "outputs": [],
   "source": [
    "metal = create_dataset_from_playlist(\"1J1q48igLB9WMwB8hGTJN1\")"
   ]
  },
  {
   "cell_type": "code",
   "execution_count": 25,
   "id": "58e8b7c6",
   "metadata": {},
   "outputs": [
    {
     "data": {
      "text/plain": [
       "(811, 20)"
      ]
     },
     "execution_count": 25,
     "metadata": {},
     "output_type": "execute_result"
    }
   ],
   "source": [
    "past_hits = pd.concat([jazz, pop, hiphop, rock, ryb, cumbia, flamenco, reggae, metal], ignore_index=True)\n",
    "past_hits.shape"
   ]
  },
  {
   "cell_type": "code",
   "execution_count": 26,
   "id": "233707e4",
   "metadata": {},
   "outputs": [
    {
     "data": {
      "text/plain": [
       "danceability        0\n",
       "energy              0\n",
       "key                 0\n",
       "loudness            0\n",
       "mode                0\n",
       "speechiness         0\n",
       "acousticness        0\n",
       "instrumentalness    0\n",
       "liveness            0\n",
       "valence             0\n",
       "tempo               0\n",
       "type                0\n",
       "id                  0\n",
       "uri                 0\n",
       "track_href          0\n",
       "analysis_url        0\n",
       "duration_ms         0\n",
       "time_signature      0\n",
       "Song                0\n",
       "Artist              0\n",
       "dtype: int64"
      ]
     },
     "execution_count": 26,
     "metadata": {},
     "output_type": "execute_result"
    }
   ],
   "source": [
    "past_hits.isna().sum()"
   ]
  },
  {
   "cell_type": "code",
   "execution_count": 27,
   "id": "a2aa27ce",
   "metadata": {},
   "outputs": [
    {
     "data": {
      "text/plain": [
       "(804, 20)"
      ]
     },
     "execution_count": 27,
     "metadata": {},
     "output_type": "execute_result"
    }
   ],
   "source": [
    "past_hits = past_hits.drop_duplicates()\n",
    "past_hits.shape # it worked. "
   ]
  },
  {
   "cell_type": "markdown",
   "id": "b86baad9",
   "metadata": {},
   "source": [
    "We created a list with present hits and a list with classic hist of jazz, pop, hiphop, rock, ryb, cumbia, flamenco, reggae, metal. Let's save them just in case."
   ]
  },
  {
   "cell_type": "code",
   "execution_count": 30,
   "id": "cf3e1c47",
   "metadata": {},
   "outputs": [],
   "source": [
    "present_hits.to_csv('present_hits.csv', index=False)"
   ]
  },
  {
   "cell_type": "code",
   "execution_count": 31,
   "id": "7e596db5",
   "metadata": {},
   "outputs": [],
   "source": [
    "past_hits.to_csv('past_hits.csv', index=False)"
   ]
  },
  {
   "cell_type": "markdown",
   "id": "f4aed561",
   "metadata": {},
   "source": [
    "# <span style=\"color:rgb(255, 0, 255)\"> MODEL"
   ]
  },
  {
   "cell_type": "code",
   "execution_count": 32,
   "id": "f5306ce4",
   "metadata": {},
   "outputs": [],
   "source": [
    "from sklearn.cluster import KMeans\n",
    "from sklearn.preprocessing import StandardScaler\n",
    "from spotipy.oauth2 import SpotifyClientCredentials\n",
    "from sklearn.metrics import pairwise_distances_argmin_min\n",
    "from sklearn.metrics import silhouette_score\n",
    "import numpy as np\n",
    "from sklearn.metrics.pairwise import cosine_similarity\n"
   ]
  },
  {
   "cell_type": "code",
   "execution_count": null,
   "id": "c132fb4a",
   "metadata": {},
   "outputs": [],
   "source": [
    "# Let's begin clustering and scaling\n",
    "# pa will be past hits and pe will be present hits"
   ]
  },
  {
   "cell_type": "code",
   "execution_count": 33,
   "id": "80bfa66f",
   "metadata": {},
   "outputs": [],
   "source": [
    "# Past hits scaling and clustering\n",
    "# select the features that we need\n",
    "pa = past_hits[['danceability', 'energy', 'key', 'loudness', 'mode', 'speechiness', 'acousticness', 'instrumentalness', 'liveness', 'valence', 'tempo']]\n",
    "\n",
    "# standarize the data\n",
    "scaler = StandardScaler()\n",
    "pa_prep = scaler.fit_transform(pa)"
   ]
  },
  {
   "cell_type": "code",
   "execution_count": 34,
   "id": "b7f43fd5",
   "metadata": {},
   "outputs": [
    {
     "data": {
      "image/png": "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\n",
      "text/plain": [
       "<Figure size 1600x800 with 1 Axes>"
      ]
     },
     "metadata": {},
     "output_type": "display_data"
    }
   ],
   "source": [
    "\n",
    "K = range(2, 10)\n",
    "\n",
    "inertia = []\n",
    "\n",
    "for k in K:\n",
    "    kmeans = KMeans(n_clusters=k, random_state=1234)\n",
    "    kmeans.fit(pa_prep)\n",
    "    inertia.append(kmeans.inertia_)\n",
    "\n",
    "inertia\n",
    "import matplotlib.pyplot as plt ### ELBOW, the inflexion normally is the best option\n",
    "\n",
    "plt.figure(figsize=(16,8))\n",
    "plt.plot(K, inertia, 'bx-')\n",
    "plt.xlabel('k')\n",
    "plt.ylabel('inertia')\n",
    "plt.xticks(np.arange(min(K), max(K)+1, 1.0))\n",
    "plt.show()"
   ]
  },
  {
   "cell_type": "code",
   "execution_count": 35,
   "id": "f51b1b82",
   "metadata": {
    "scrolled": true
   },
   "outputs": [],
   "source": [
    "# train and predict\n",
    "kmeans = KMeans(n_clusters=3, random_state=42) # I chose 3 according to the elbow\n",
    "kmeans.fit(pa_prep)\n",
    "clusters = kmeans.predict(pa_prep)\n",
    "\n",
    "#create new dataframe with title, artist and cluster assigned\n",
    "scaled_pa = pd.DataFrame(pa_prep, columns= pa.columns)\n",
    "scaled_pa['song'] = past_hits['Song']\n",
    "scaled_pa['artist'] = past_hits['Artist']\n",
    "scaled_pa['cluster'] = clusters\n"
   ]
  },
  {
   "cell_type": "code",
   "execution_count": 37,
   "id": "884e08d8",
   "metadata": {},
   "outputs": [
    {
     "data": {
      "image/png": "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\n",
      "text/plain": [
       "<Figure size 640x480 with 1 Axes>"
      ]
     },
     "metadata": {},
     "output_type": "display_data"
    }
   ],
   "source": [
    "from sklearn.decomposition import PCA\n",
    "from sklearn.cluster import KMeans\n",
    "import matplotlib.pyplot as plt\n",
    "\n",
    "# Transform the data into 2D so we can see\n",
    "pca = PCA(2) \n",
    "pa_2D = pca.fit_transform(pa_prep)\n",
    "\n",
    "\n",
    "labels = np.unique(clusters)\n",
    "\n",
    "for i in labels:\n",
    "    plt.scatter(pa_2D[clusters == i , 0] , pa_2D[clusters == i , 1] , label = i)\n",
    "plt.legend()\n",
    "plt.show()"
   ]
  },
  {
   "cell_type": "code",
   "execution_count": 38,
   "id": "dc9b895c",
   "metadata": {
    "scrolled": false
   },
   "outputs": [
    {
     "data": {
      "text/html": [
       "<div>\n",
       "<style scoped>\n",
       "    .dataframe tbody tr th:only-of-type {\n",
       "        vertical-align: middle;\n",
       "    }\n",
       "\n",
       "    .dataframe tbody tr th {\n",
       "        vertical-align: top;\n",
       "    }\n",
       "\n",
       "    .dataframe thead th {\n",
       "        text-align: right;\n",
       "    }\n",
       "</style>\n",
       "<table border=\"1\" class=\"dataframe\">\n",
       "  <thead>\n",
       "    <tr style=\"text-align: right;\">\n",
       "      <th></th>\n",
       "      <th>danceability</th>\n",
       "      <th>energy</th>\n",
       "      <th>key</th>\n",
       "      <th>loudness</th>\n",
       "      <th>mode</th>\n",
       "      <th>speechiness</th>\n",
       "      <th>acousticness</th>\n",
       "      <th>instrumentalness</th>\n",
       "      <th>liveness</th>\n",
       "      <th>valence</th>\n",
       "      <th>tempo</th>\n",
       "      <th>song</th>\n",
       "      <th>artist</th>\n",
       "    </tr>\n",
       "  </thead>\n",
       "  <tbody>\n",
       "    <tr>\n",
       "      <th>0</th>\n",
       "      <td>-2.573817</td>\n",
       "      <td>0.269740</td>\n",
       "      <td>-1.269666</td>\n",
       "      <td>-0.988830</td>\n",
       "      <td>-1.199415</td>\n",
       "      <td>0.122786</td>\n",
       "      <td>1.019091</td>\n",
       "      <td>-0.208303</td>\n",
       "      <td>1.359347</td>\n",
       "      <td>1.087274</td>\n",
       "      <td>2.918625</td>\n",
       "      <td>What's Going On</td>\n",
       "      <td>Marvin Gaye</td>\n",
       "    </tr>\n",
       "    <tr>\n",
       "      <th>1</th>\n",
       "      <td>0.456697</td>\n",
       "      <td>-1.471628</td>\n",
       "      <td>0.413802</td>\n",
       "      <td>-1.762881</td>\n",
       "      <td>0.833740</td>\n",
       "      <td>0.084058</td>\n",
       "      <td>-0.088384</td>\n",
       "      <td>-0.208303</td>\n",
       "      <td>-0.582265</td>\n",
       "      <td>1.438675</td>\n",
       "      <td>-0.911993</td>\n",
       "      <td>Blister In The Sun</td>\n",
       "      <td>Violent Femmes</td>\n",
       "    </tr>\n",
       "    <tr>\n",
       "      <th>2</th>\n",
       "      <td>0.004901</td>\n",
       "      <td>-1.817341</td>\n",
       "      <td>0.133224</td>\n",
       "      <td>-1.350509</td>\n",
       "      <td>-1.199415</td>\n",
       "      <td>-0.650644</td>\n",
       "      <td>-0.966383</td>\n",
       "      <td>-0.154272</td>\n",
       "      <td>0.533129</td>\n",
       "      <td>-0.078132</td>\n",
       "      <td>-0.201737</td>\n",
       "      <td>Monkey Gone to Heaven</td>\n",
       "      <td>Pixies</td>\n",
       "    </tr>\n",
       "    <tr>\n",
       "      <th>3</th>\n",
       "      <td>-2.796241</td>\n",
       "      <td>1.114815</td>\n",
       "      <td>-0.147354</td>\n",
       "      <td>0.136833</td>\n",
       "      <td>0.833740</td>\n",
       "      <td>-0.340816</td>\n",
       "      <td>-0.816089</td>\n",
       "      <td>-0.162024</td>\n",
       "      <td>-0.864341</td>\n",
       "      <td>-1.675005</td>\n",
       "      <td>1.520806</td>\n",
       "      <td>Paranoid Android</td>\n",
       "      <td>Radiohead</td>\n",
       "    </tr>\n",
       "    <tr>\n",
       "      <th>4</th>\n",
       "      <td>-0.238375</td>\n",
       "      <td>-2.905696</td>\n",
       "      <td>-1.550244</td>\n",
       "      <td>-2.502777</td>\n",
       "      <td>0.833740</td>\n",
       "      <td>-0.234883</td>\n",
       "      <td>2.521132</td>\n",
       "      <td>-0.208210</td>\n",
       "      <td>-0.415730</td>\n",
       "      <td>-0.700868</td>\n",
       "      <td>-1.715691</td>\n",
       "      <td>Lean on Me</td>\n",
       "      <td>Bill Withers</td>\n",
       "    </tr>\n",
       "    <tr>\n",
       "      <th>...</th>\n",
       "      <td>...</td>\n",
       "      <td>...</td>\n",
       "      <td>...</td>\n",
       "      <td>...</td>\n",
       "      <td>...</td>\n",
       "      <td>...</td>\n",
       "      <td>...</td>\n",
       "      <td>...</td>\n",
       "      <td>...</td>\n",
       "      <td>...</td>\n",
       "      <td>...</td>\n",
       "      <td>...</td>\n",
       "      <td>...</td>\n",
       "    </tr>\n",
       "    <tr>\n",
       "      <th>273</th>\n",
       "      <td>-0.161917</td>\n",
       "      <td>-0.773801</td>\n",
       "      <td>-0.989088</td>\n",
       "      <td>-1.881883</td>\n",
       "      <td>0.833740</td>\n",
       "      <td>-0.215518</td>\n",
       "      <td>-0.963872</td>\n",
       "      <td>-0.208273</td>\n",
       "      <td>-0.370547</td>\n",
       "      <td>-1.274674</td>\n",
       "      <td>1.752162</td>\n",
       "      <td>LA BABY</td>\n",
       "      <td>Tainy</td>\n",
       "    </tr>\n",
       "    <tr>\n",
       "      <th>274</th>\n",
       "      <td>1.283833</td>\n",
       "      <td>0.743494</td>\n",
       "      <td>0.133224</td>\n",
       "      <td>1.898131</td>\n",
       "      <td>-1.199415</td>\n",
       "      <td>0.229859</td>\n",
       "      <td>0.947352</td>\n",
       "      <td>-0.208277</td>\n",
       "      <td>-0.028441</td>\n",
       "      <td>1.683322</td>\n",
       "      <td>-1.065804</td>\n",
       "      <td>PLAYA DEL INGLÉS</td>\n",
       "      <td>Quevedo</td>\n",
       "    </tr>\n",
       "    <tr>\n",
       "      <th>275</th>\n",
       "      <td>-0.460798</td>\n",
       "      <td>0.372173</td>\n",
       "      <td>0.694380</td>\n",
       "      <td>0.572933</td>\n",
       "      <td>0.833740</td>\n",
       "      <td>-0.569770</td>\n",
       "      <td>-0.981811</td>\n",
       "      <td>-0.208303</td>\n",
       "      <td>-0.670051</td>\n",
       "      <td>0.322199</td>\n",
       "      <td>-0.078732</td>\n",
       "      <td>Flow Violento - Remix</td>\n",
       "      <td>YoSoyPlex</td>\n",
       "    </tr>\n",
       "    <tr>\n",
       "      <th>276</th>\n",
       "      <td>0.984952</td>\n",
       "      <td>1.377301</td>\n",
       "      <td>1.536114</td>\n",
       "      <td>0.598819</td>\n",
       "      <td>-1.199415</td>\n",
       "      <td>0.027104</td>\n",
       "      <td>-0.747488</td>\n",
       "      <td>-0.206447</td>\n",
       "      <td>-0.486733</td>\n",
       "      <td>-0.723108</td>\n",
       "      <td>-0.002539</td>\n",
       "      <td>Arranca (feat. Omega)</td>\n",
       "      <td>Becky G</td>\n",
       "    </tr>\n",
       "    <tr>\n",
       "      <th>277</th>\n",
       "      <td>1.283833</td>\n",
       "      <td>0.218523</td>\n",
       "      <td>-0.147354</td>\n",
       "      <td>0.795837</td>\n",
       "      <td>-1.199415</td>\n",
       "      <td>0.890521</td>\n",
       "      <td>-0.195993</td>\n",
       "      <td>-0.208303</td>\n",
       "      <td>0.997877</td>\n",
       "      <td>1.674426</td>\n",
       "      <td>-0.077051</td>\n",
       "      <td>NaN</td>\n",
       "      <td>NaN</td>\n",
       "    </tr>\n",
       "  </tbody>\n",
       "</table>\n",
       "<p>278 rows × 13 columns</p>\n",
       "</div>"
      ],
      "text/plain": [
       "     danceability    energy       key  loudness      mode  speechiness  \\\n",
       "0       -2.573817  0.269740 -1.269666 -0.988830 -1.199415     0.122786   \n",
       "1        0.456697 -1.471628  0.413802 -1.762881  0.833740     0.084058   \n",
       "2        0.004901 -1.817341  0.133224 -1.350509 -1.199415    -0.650644   \n",
       "3       -2.796241  1.114815 -0.147354  0.136833  0.833740    -0.340816   \n",
       "4       -0.238375 -2.905696 -1.550244 -2.502777  0.833740    -0.234883   \n",
       "..            ...       ...       ...       ...       ...          ...   \n",
       "273     -0.161917 -0.773801 -0.989088 -1.881883  0.833740    -0.215518   \n",
       "274      1.283833  0.743494  0.133224  1.898131 -1.199415     0.229859   \n",
       "275     -0.460798  0.372173  0.694380  0.572933  0.833740    -0.569770   \n",
       "276      0.984952  1.377301  1.536114  0.598819 -1.199415     0.027104   \n",
       "277      1.283833  0.218523 -0.147354  0.795837 -1.199415     0.890521   \n",
       "\n",
       "     acousticness  instrumentalness  liveness   valence     tempo  \\\n",
       "0        1.019091         -0.208303  1.359347  1.087274  2.918625   \n",
       "1       -0.088384         -0.208303 -0.582265  1.438675 -0.911993   \n",
       "2       -0.966383         -0.154272  0.533129 -0.078132 -0.201737   \n",
       "3       -0.816089         -0.162024 -0.864341 -1.675005  1.520806   \n",
       "4        2.521132         -0.208210 -0.415730 -0.700868 -1.715691   \n",
       "..            ...               ...       ...       ...       ...   \n",
       "273     -0.963872         -0.208273 -0.370547 -1.274674  1.752162   \n",
       "274      0.947352         -0.208277 -0.028441  1.683322 -1.065804   \n",
       "275     -0.981811         -0.208303 -0.670051  0.322199 -0.078732   \n",
       "276     -0.747488         -0.206447 -0.486733 -0.723108 -0.002539   \n",
       "277     -0.195993         -0.208303  0.997877  1.674426 -0.077051   \n",
       "\n",
       "                      song          artist  \n",
       "0          What's Going On     Marvin Gaye  \n",
       "1       Blister In The Sun  Violent Femmes  \n",
       "2    Monkey Gone to Heaven          Pixies  \n",
       "3         Paranoid Android       Radiohead  \n",
       "4               Lean on Me    Bill Withers  \n",
       "..                     ...             ...  \n",
       "273                LA BABY           Tainy  \n",
       "274       PLAYA DEL INGLÉS         Quevedo  \n",
       "275  Flow Violento - Remix       YoSoyPlex  \n",
       "276  Arranca (feat. Omega)         Becky G  \n",
       "277                    NaN             NaN  \n",
       "\n",
       "[278 rows x 13 columns]"
      ]
     },
     "execution_count": 38,
     "metadata": {},
     "output_type": "execute_result"
    }
   ],
   "source": [
    "# Present hits scaling\n",
    "# select the features that we need\n",
    "pe = present_hits[['danceability', 'energy', 'key', 'loudness', 'mode', 'speechiness', 'acousticness', 'instrumentalness', 'liveness', 'valence', 'tempo']]\n",
    "\n",
    "# standarize the data\n",
    "scaler = StandardScaler()\n",
    "pe_prep = scaler.fit_transform(pe)\n",
    "scaled_pe = pd.DataFrame(pe_prep, columns= pe.columns)\n",
    "scaled_pe['song'] = present_hits['Song']\n",
    "scaled_pe['artist'] = present_hits['Artist']\n",
    "scaled_pe"
   ]
  },
  {
   "cell_type": "code",
   "execution_count": 39,
   "id": "e264ae1c",
   "metadata": {},
   "outputs": [],
   "source": [
    "scaled_pa.to_csv('scaled_pa.csv', index=False)\n",
    "scaled_pe.to_csv('scaled_pe.csv', index=False)"
   ]
  },
  {
   "cell_type": "markdown",
   "id": "bd88536f",
   "metadata": {},
   "source": [
    "# <span style=\"color:rgb(255, 0, 255)\"> RECOMMENDER"
   ]
  },
  {
   "cell_type": "code",
   "execution_count": 40,
   "id": "58f7e1b7",
   "metadata": {},
   "outputs": [],
   "source": [
    "#GOOD ONE\n",
    "import pandas as pd\n",
    "from scipy.spatial.distance import cdist\n",
    "\n",
    "def recommend_song():\n",
    "    # Load the dataframes\n",
    "    scaled_pe = pd.read_csv('scaled_pe.csv')\n",
    "    scaled_pa = pd.read_csv('scaled_pa.csv')\n",
    "\n",
    "    # Get user input for a song from the present\n",
    "    present_song = input(\"Enter a popular song from the present: \")\n",
    "\n",
    "    # Check if the song exists in the present list\n",
    "    if present_song not in scaled_pe['song'].values:\n",
    "        print(\"We didn't find this song, maybe it is not so famous right now? Try with another song.\")\n",
    "        return\n",
    "\n",
    "    # Get the numeric features for the present song\n",
    "    present_song_features = scaled_pe.loc[scaled_pe['song'] == present_song, 'danceability':'tempo'].values\n",
    "\n",
    "    # Compute the similarity between the present song and the past songs\n",
    "    distances = cdist(present_song_features, scaled_pa.loc[:, 'danceability':'tempo'].values, metric='euclidean')\n",
    "    closest_song_index = distances.argmin()\n",
    "    closest_song = scaled_pa.loc[closest_song_index, 'song']\n",
    "\n",
    "    print(f\"Knowing that you like '{present_song}', you should for sure listen to this classic hit: '{closest_song}'.\")\n",
    "\n",
    "\n"
   ]
  },
  {
   "cell_type": "code",
   "execution_count": 43,
   "id": "abddec13",
   "metadata": {
    "scrolled": true
   },
   "outputs": [
    {
     "name": "stdout",
     "output_type": "stream",
     "text": [
      "Enter a popular song from the present: PLAYA DEL INGLÉS\n",
      "Knowing that you like 'PLAYA DEL INGLÉS', you should for sure listen to this classic hit: 'Diddy (feat. The Neptunes)'.\n"
     ]
    }
   ],
   "source": [
    "# Call the function\n",
    "recommend_song()"
   ]
  }
 ],
 "metadata": {
  "kernelspec": {
   "display_name": "Python 3 (ipykernel)",
   "language": "python",
   "name": "python3"
  },
  "language_info": {
   "codemirror_mode": {
    "name": "ipython",
    "version": 3
   },
   "file_extension": ".py",
   "mimetype": "text/x-python",
   "name": "python",
   "nbconvert_exporter": "python",
   "pygments_lexer": "ipython3",
   "version": "3.9.13"
  }
 },
 "nbformat": 4,
 "nbformat_minor": 5
}
