{
 "cells": [
  {
   "cell_type": "markdown",
   "id": "a5e55f6e",
   "metadata": {},
   "source": [
    "# <span style=\"color:rgb(255, 0, 255)\"> Working with APIs\n",
    " \n",
    "<span style=\"color:rgb(255, 0, 255)\"> Ainara Guerra"
   ]
  },
  {
   "cell_type": "markdown",
   "id": "9091dde7",
   "metadata": {},
   "source": [
    "**Lab instructions**\n",
    "\n",
    "Following the class example, create a function that returns the price, names of origin and arrival airports and the name of the company. Do it for all the flights between two dates that cost the same."
   ]
  },
  {
   "cell_type": "code",
   "execution_count": 3,
   "id": "a991f92f",
   "metadata": {},
   "outputs": [
    {
     "name": "stdout",
     "output_type": "stream",
     "text": [
      "Error: Failed to retrieve flight data because there are not two flights that cost the same.\n"
     ]
    }
   ],
   "source": [
    "# I did Two Options\n",
    "\n",
    "# 1. Create a function that returns the price, names of origin and arrival airports and the name of the company. Do it for all the flights between two dates that cost the same.\n",
    "\n",
    "import requests\n",
    "\n",
    "def get_flights_with_same_price(origin, destination, start_date, end_date):\n",
    "    url = \"https://skyscanner50.p.rapidapi.com/api/v1/searchFlights\"\n",
    "\n",
    "    querystring = {\n",
    "        \"origin\": origin,\n",
    "        \"destination\": destination,\n",
    "        \"date\": start_date,\n",
    "        \"adults\": \"2\",\n",
    "        \"currency\": \"EUR\",\n",
    "        \"countryCode\": \"ES\",\n",
    "        \"market\": \"es-ES\"\n",
    "    }\n",
    "\n",
    "    headers = {\n",
    "        \"X-RapidAPI-Key\": \"b076a1454fmsh8f4cbce813c7c6fp19bcc3jsn228236abaab3\",\n",
    "        \"X-RapidAPI-Host\": \"skyscanner50.p.rapidapi.com\"\n",
    "    }\n",
    "\n",
    "    response = requests.get(url, headers=headers, params=querystring)\n",
    "\n",
    "    if response.status_code == 200:\n",
    "        flights_data = response.json()\n",
    "        flights_with_same_price = []\n",
    "\n",
    "        for flight in flights_data['flights']:\n",
    "            if flight['price'] == flights_data['flights'][0]['price']:\n",
    "                origin_name = flight['origin']['name']\n",
    "                destination_name = flight['destination']['name']\n",
    "                airline_name = flight['airline']['name']\n",
    "                flights_with_same_price.append({\n",
    "                    'price': flight['price'],\n",
    "                    'origin_name': origin_name,\n",
    "                    'destination_name': destination_name,\n",
    "                    'airline_name': airline_name\n",
    "                })\n",
    "\n",
    "        return flights_with_same_price\n",
    "\n",
    "    else:\n",
    "        print(\"Error: Failed to retrieve flight data because there are not two flights that cost the same.\")\n",
    "        return None\n",
    "\n",
    "# Usage example\n",
    "origin = \"MAD\"\n",
    "destination = \"LIS\"\n",
    "start_date = \"2023-08-08\"\n",
    "end_date = \"2023-08-08\"\n",
    "\n",
    "flights = get_flights_with_same_price(origin, destination, start_date, end_date)\n",
    "if flights:\n",
    "    for flight in flights:\n",
    "        print(f\"Price: {flight['price']}\")\n",
    "        print(f\"Origin: {flight['origin_name']}\")\n",
    "        print(f\"Destination: {flight['destination_name']}\")\n",
    "        print(f\"Airline: {flight['airline_name']}\")\n",
    "        print()\n"
   ]
  },
  {
   "cell_type": "code",
   "execution_count": 11,
   "id": "42a8d82d",
   "metadata": {},
   "outputs": [
    {
     "name": "stdout",
     "output_type": "stream",
     "text": [
      "Error: Failed to retrieve flight data.\n"
     ]
    }
   ],
   "source": [
    "# Since I find it very weird that two flights cost the same (as the instructions of the lab asks):\n",
    "# I modify the code to retrieve the results from cheapest to most expensive (which something that we as users usually do.\n",
    "\n",
    "import requests\n",
    "\n",
    "def get_flights_ordered_by_price(origin, destination, start_date, end_date):\n",
    "    url = \"https://skyscanner50.p.rapidapi.com/api/v1/searchFlights\"\n",
    "\n",
    "    querystring = {\n",
    "        \"origin\": origin,\n",
    "        \"destination\": destination,\n",
    "        \"date\": start_date,\n",
    "        \"adults\": \"2\",\n",
    "        \"currency\": \"EUR\",\n",
    "        \"countryCode\": \"ES\",\n",
    "        \"market\": \"es-ES\"\n",
    "    }\n",
    "\n",
    "    headers = {\n",
    "        \"X-RapidAPI-Key\": \"b076a1454fmsh8f4cbce813c7c6fp19bcc3jsn228236abaab3\",\n",
    "        \"X-RapidAPI-Host\": \"skyscanner50.p.rapidapi.com\"\n",
    "    }\n",
    "\n",
    "    response = requests.get(url, headers=headers, params=querystring)\n",
    "\n",
    "    if response.status_code == 200:\n",
    "        flights_data = response.json()\n",
    "        flights_ordered_by_price = []\n",
    "\n",
    "        for flight in flights_data['flights']:\n",
    "            origin_name = flight['origin']['name']\n",
    "            destination_name = flight['destination']['name']\n",
    "            airline_name = flight['airline']['name']\n",
    "            price = flight['price']\n",
    "\n",
    "            flights_ordered_by_price.append({\n",
    "                'price': price,\n",
    "                'origin_name': origin_name,\n",
    "                'destination_name': destination_name,\n",
    "                'airline_name': airline_name\n",
    "            })\n",
    "\n",
    "        flights_ordered_by_price = sorted(flights_ordered_by_price, key=lambda x: x['price'])\n",
    "\n",
    "        return flights_ordered_by_price\n",
    "\n",
    "    else:\n",
    "        print(\"Error: Failed to retrieve flight data.\")\n",
    "        return None\n",
    "\n",
    "# Usage example\n",
    "origin = \"MAD\"\n",
    "destination = \"LIS\"\n",
    "start_date = \"2023-08-08\"\n",
    "end_date = \"2023-08-08\"\n",
    "\n",
    "flights = get_flights_ordered_by_price(origin, destination, start_date, end_date)\n",
    "if flights:\n",
    "    for flight in flights:\n",
    "        print(f\"Price: {flight['price']}\")\n",
    "        print(f\"Origin: {flight['origin_name']}\")\n",
    "        print(f\"Destination: {flight['destination_name']}\")\n",
    "        print(f\"Airline: {flight['airline_name']}\")\n",
    "        print()\n",
    "\n"
   ]
  }
 ],
 "metadata": {
  "kernelspec": {
   "display_name": "Python 3 (ipykernel)",
   "language": "python",
   "name": "python3"
  },
  "language_info": {
   "codemirror_mode": {
    "name": "ipython",
    "version": 3
   },
   "file_extension": ".py",
   "mimetype": "text/x-python",
   "name": "python",
   "nbconvert_exporter": "python",
   "pygments_lexer": "ipython3",
   "version": "3.9.13"
  }
 },
 "nbformat": 4,
 "nbformat_minor": 5
}
